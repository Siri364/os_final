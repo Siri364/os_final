{
  "cells": [
    {
      "cell_type": "markdown",
      "source": [
        "รหัสนักศึกษา : 6304101364\n",
        "ชื่อ : นาย ศิริมงคล ทาริน\n",
        "กลุ่มเรียนที่ : 1 "
      ],
      "metadata": {
        "id": "VqlpkUwaGmPY"
      }
    },
    {
      "cell_type": "code",
      "source": [
        "\n"
      ],
      "metadata": {
        "id": "m6fm1WfOHSAe"
      },
      "execution_count": null,
      "outputs": []
    }
  ],
  "metadata": {
    "colab": {
      "collapsed_sections": [],
      "provenance": []
    },
    "kernelspec": {
      "display_name": "Python 3",
      "name": "python3"
    }
  },
  "nbformat": 4,
  "nbformat_minor": 0
}